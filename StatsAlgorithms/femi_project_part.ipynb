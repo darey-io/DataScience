{
 "cells": [
  {
   "cell_type": "code",
   "execution_count": 1,
   "metadata": {
    "collapsed": true
   },
   "outputs": [],
   "source": [
    "class frequencyDistribution():\n",
    "\n",
    "    def __init__(self, data):\n",
    "        self.data = data\n",
    "        self.upper = max(self.data)                 #Get the lower limit of the data\n",
    "        self.lower = min(self.data)                 #Get the upper limit of the data\n",
    "        self.classwidth = int(float(self.upper)/self.lower + (self.upper % self.lower > 0))     # Compute the classwidth and Always round up the result\n",
    "\n",
    "#Define the function that distributes the data based on the classwidth\n",
    "\n",
    "    def distributeClassWidth(self):\n",
    "        self.iter = 0                                 # Use the iter variable to coordinate what code to run the first time and subsequent times\n",
    "        self.tempdata = []                            #Get an empty List\n",
    "        for self.n in range(self.upper):              #Start the loop here\n",
    "            if self.iter == 0:                        #Check if this is the first loop\n",
    "                self.tup1 = self.lower                #Even though i am not using TUPLES, i am using the terminology to indicate that the sub-lists are in the form of a tuple\n",
    "                self.tup2 = self.tup1 + self.classwidth\n",
    "                self.tuple = [self.tup1, self.tup2]\n",
    "                self.tempdata.append(self.tuple)\n",
    "                self.tup1 = self.tup2 + 1\n",
    "                self.iter += 1\n",
    "            else:\n",
    "                self.tup2 = self.tup1 + self.classwidth\n",
    "                self.tuple = [self.tup1, self.tup2]\n",
    "                self.tempdata.append(self.tuple)\n",
    "                if self.tup2 > self.upper:\n",
    "                    break\n",
    "                self.tup1 = self.tup2 + 1\n",
    "        return self.tempdata\n",
    "\n",
    "# Improve this function later to be able to reference indexes of the returned data\n",
    "    def classMidPoint(self):\n",
    "        self.distributed_data = self.distributeClassWidth()\n",
    "        self.midpoint = []\n",
    "        for self.n in self.distributed_data:\n",
    "            self.tmp_midpoint = [self.n, float(self.n[0] + self.n[1])/2]\n",
    "            self.midpoint.append(self.tmp_midpoint)\n",
    "        return self.midpoint\n",
    "\n",
    "    def __str__(self):\n",
    "        return self.tempdata\n",
    "        return self.tmp_midpoint\n"
   ]
  },
  {
   "cell_type": "code",
   "execution_count": null,
   "metadata": {
    "collapsed": true
   },
   "outputs": [],
   "source": []
  }
 ],
 "metadata": {
  "kernelspec": {
   "display_name": "Python 2",
   "language": "python",
   "name": "python2"
  },
  "language_info": {
   "codemirror_mode": {
    "name": "ipython",
    "version": 2
   },
   "file_extension": ".py",
   "mimetype": "text/x-python",
   "name": "python",
   "nbconvert_exporter": "python",
   "pygments_lexer": "ipython2",
   "version": "2.7.13"
  }
 },
 "nbformat": 4,
 "nbformat_minor": 2
}
