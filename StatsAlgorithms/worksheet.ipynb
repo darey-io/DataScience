{
 "cells": [
  {
   "cell_type": "code",
   "execution_count": null,
   "metadata": {
    "collapsed": true
   },
   "outputs": [],
   "source": [
    "import stats\n",
    "\n",
    "data2 = [23,56,44,20,17,34,19,35,15,45, 67, 84, 33, 78, 93, 23,44,20,17,34,19,35,15,45]\n",
    "\n",
    "b = stats.frequencyDistribution(data2)\n",
    "print (b.distributeClassWidth())\n",
    "midpoint = b.classMidPoint()\n",
    "\n",
    "print(midpoint)"
   ]
  }
 ],
 "metadata": {
  "kernelspec": {
   "display_name": "Python 2",
   "language": "python",
   "name": "python2"
  },
  "language_info": {
   "codemirror_mode": {
    "name": "ipython",
    "version": 2.0
   },
   "file_extension": ".py",
   "mimetype": "text/x-python",
   "name": "python",
   "nbconvert_exporter": "python",
   "pygments_lexer": "ipython2",
   "version": "2.7.6"
  }
 },
 "nbformat": 4,
 "nbformat_minor": 0
}