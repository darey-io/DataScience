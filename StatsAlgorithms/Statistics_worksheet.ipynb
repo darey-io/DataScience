{
 "cells": [
  {
   "cell_type": "code",
   "execution_count": 4,
   "metadata": {
    "collapsed": false
   },
   "outputs": [
    {
     "name": "stdout",
     "output_type": "stream",
     "text": [
      "[[15, 22], [23, 30], [31, 38], [39, 46], [47, 54], [55, 62], [63, 70], [71, 78], [79, 86], [87, 94]]\n"
     ]
    }
   ],
   "source": [
    "import stats\n",
    "\n",
    "data = [23,56,44,20,17,34,19,35,15,45, 67, 84, 33, 78, 93, 23,44,20,17,34,19,35,15,45]\n",
    "\n",
    "b = stats.frequencyDistribution(data)\n",
    "print (b.distributeClassWidth())"
   ]
  },
  {
   "cell_type": "code",
   "execution_count": 5,
   "metadata": {
    "collapsed": false
   },
   "outputs": [
    {
     "name": "stdout",
     "output_type": "stream",
     "text": [
      "[[[15, 22], 18.5], [[23, 30], 26.5], [[31, 38], 34.5], [[39, 46], 42.5], [[47, 54], 50.5], [[55, 62], 58.5], [[63, 70], 66.5], [[71, 78], 74.5], [[79, 86], 82.5], [[87, 94], 90.5]]\n"
     ]
    }
   ],
   "source": [
    "midpoint = b.classMidPoint()\n",
    "print(midpoint)"
   ]
  },
  {
   "cell_type": "code",
   "execution_count": null,
   "metadata": {
    "collapsed": true
   },
   "outputs": [],
   "source": [
    ""
   ]
  }
 ],
 "metadata": {
  "kernelspec": {
   "display_name": "Python 2",
   "language": "python",
   "name": "python2"
  },
  "language_info": {
   "codemirror_mode": {
    "name": "ipython",
    "version": 2.0
   },
   "file_extension": ".py",
   "mimetype": "text/x-python",
   "name": "python",
   "nbconvert_exporter": "python",
   "pygments_lexer": "ipython2",
   "version": "2.7.13"
  }
 },
 "nbformat": 4,
 "nbformat_minor": 0
}